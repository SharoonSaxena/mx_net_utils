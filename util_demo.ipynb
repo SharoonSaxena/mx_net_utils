{
 "metadata": {
  "language_info": {
   "codemirror_mode": {
    "name": "ipython",
    "version": 3
   },
   "file_extension": ".py",
   "mimetype": "text/x-python",
   "name": "python",
   "nbconvert_exporter": "python",
   "pygments_lexer": "ipython3",
   "version": "3.8.2-final"
  },
  "orig_nbformat": 2,
  "kernelspec": {
   "name": "python_defaultSpec_1597224000081",
   "display_name": "Python 3.8.2 64-bit"
  }
 },
 "nbformat": 4,
 "nbformat_minor": 2,
 "cells": [
  {
   "cell_type": "code",
   "execution_count": 2,
   "metadata": {},
   "outputs": [],
   "source": [
    "import mxnet as mx\n",
    "from mxnet import np, npx\n",
    "import time\n",
    "from my_mx_util import *\n",
    "npx.set_np()"
   ]
  },
  {
   "cell_type": "markdown",
   "metadata": {},
   "source": [
    "## try_gpu()"
   ]
  },
  {
   "cell_type": "code",
   "execution_count": 16,
   "metadata": {
    "tags": []
   },
   "outputs": [
    {
     "output_type": "execute_result",
     "data": {
      "text/plain": "(array([]), '    ', array([], ctx=gpu(0)), '    ', array([], ctx=gpu(0)))"
     },
     "metadata": {},
     "execution_count": 16
    }
   ],
   "source": [
    "# allocating cpu\n",
    "x = np.random.uniform(size=(0), ctx= npx.cpu())\n",
    "\n",
    "# allocating gpu\n",
    "y = np.random.uniform(size=(0), ctx= npx.gpu())\n",
    "\n",
    "# try allocating gpu if it is available, else cpu\n",
    "z = np.random.uniform(size=(0), ctx= try_gpu())\n",
    "\n",
    "x,'    ', y,'    ', z"
   ]
  },
  {
   "cell_type": "markdown",
   "metadata": {},
   "source": [
    "### synthetic_data() (regression)"
   ]
  },
  {
   "cell_type": "code",
   "execution_count": 24,
   "metadata": {
    "tags": []
   },
   "outputs": [
    {
     "output_type": "stream",
     "name": "stdout",
     "text": "features\n [[-2.2465067  -1.3058136 ]\n [-0.34304565  0.9344402 ]\n [-0.40720204  0.5380863 ]\n [ 0.5086958  -0.16038011]\n [ 0.91511744  0.84187603]\n [-0.491778   -1.0055363 ]\n [-1.5560924   3.132215  ]\n [-0.15748753 -0.4358989 ]\n [-0.52664566 -0.49295077]\n [-0.17884982  1.4371867 ]]\ntargets\n [[ 4.4287434 ]\n [ 1.5074067 ]\n [ 2.576013  ]\n [ 6.4969034 ]\n [ 4.3063354 ]\n [ 7.039889  ]\n [-7.501214  ]\n [ 6.008828  ]\n [ 5.425562  ]\n [ 0.31809774]]\n"
    }
   ],
   "source": [
    "# defining variables\n",
    "weights = np.array([2,-3])\n",
    "bias = 5\n",
    "observations = 10\n",
    "\n",
    "# creating synthetic data\n",
    "features, targets = synthetic_data(weights, bias, observations)\n",
    "\n",
    "print('features\\n', features)\n",
    "print('targets\\n', targets)"
   ]
  },
  {
   "cell_type": "code",
   "execution_count": null,
   "metadata": {},
   "outputs": [],
   "source": []
  }
 ]
}